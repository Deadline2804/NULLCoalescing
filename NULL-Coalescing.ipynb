{
 "cells": [
  {
   "cell_type": "markdown",
   "metadata": {},
   "source": [
    "NULL-Coalescing Operator\n",
    "\n",
    "- ?? oder ??=\n",
    "##\n",
    "\n",
    "- ?? gibt die linke Seite zurück wenn sie nicht null ist, sonst die rechte\n",
    "- die linke Seite muss ein nullable Typ sein\n",
    "- mit Wert - und Referenztypen verwendbar"
   ]
  },
  {
   "cell_type": "code",
   "execution_count": null,
   "metadata": {
    "dotnet_interactive": {
     "language": "csharp"
    }
   },
   "outputs": [],
   "source": [
    "String name1 = null;\n",
    "String name2 = \"Paul\";\n",
    "Console.WriteLine(\"1. = \" + (name1 ?? name2));\n",
    "Console.WriteLine(\"2. = \" + (name2 ?? name1));"
   ]
  },
  {
   "cell_type": "markdown",
   "metadata": {},
   "source": [
    "- auf der rechten Seite kann auch ein throw-Ausruck stehen"
   ]
  },
  {
   "cell_type": "code",
   "execution_count": null,
   "metadata": {
    "dotnet_interactive": {
     "language": "csharp"
    }
   },
   "outputs": [],
   "source": [
    "private String name;\n",
    "String a = null;\n",
    "\n",
    "public string Name\n",
    "{\n",
    "    get => name;\n",
    "    set => name = value ?? throw new ArgumentNullException(nameof(value), \"Name cannot be null\");\n",
    "}\n",
    "\n",
    "Name = a;"
   ]
  },
  {
   "cell_type": "markdown",
   "metadata": {},
   "source": [
    "- ??= weist der linken Seite den Wert der rechten Seite zu, wenn die linke Seite null ist\n",
    "- linke Seite muss eine Variable, eine Property oder ein Indexer sein"
   ]
  },
  {
   "cell_type": "code",
   "execution_count": null,
   "metadata": {
    "dotnet_interactive": {
     "language": "csharp"
    }
   },
   "outputs": [],
   "source": [
    "String name1 = null;\n",
    "String name2 = \"Paul\";\n",
    "\n",
    "a ??= \"Jane\";\n",
    "b ??= \"Jane\";\n",
    "Console.WriteLine(\"a = \" + a);\n",
    "Console.WriteLine(\"b = \" + b);"
   ]
  },
  {
   "cell_type": "markdown",
   "metadata": {},
   "source": [
    "- eignet sich gut um if-else-Anweisungen zu verkürzen"
   ]
  },
  {
   "cell_type": "code",
   "execution_count": null,
   "metadata": {
    "dotnet_interactive": {
     "language": "csharp"
    }
   },
   "outputs": [],
   "source": [
    "int ? item_1 = null;\n",
    "   \n",
    "int ? item_2;\n",
    "\n",
    "if (item_1.HasValue) {\n",
    "    item_2 = item_1;\n",
    "}\n",
    "else {\n",
    "    item_2 = 200;\n",
    "}"
   ]
  },
  {
   "cell_type": "markdown",
   "metadata": {},
   "source": [
    "ist das gleiche wie:"
   ]
  },
  {
   "cell_type": "code",
   "execution_count": null,
   "metadata": {
    "dotnet_interactive": {
     "language": "csharp"
    }
   },
   "outputs": [],
   "source": [
    "int ? item_1 = null;\n",
    "   \n",
    "// Using ?? operator\n",
    "int ? item_2 = item_1 ?? 200;"
   ]
  },
  {
   "cell_type": "markdown",
   "metadata": {},
   "source": [
    "- ?? kann man verschachteln"
   ]
  },
  {
   "cell_type": "code",
   "execution_count": null,
   "metadata": {
    "dotnet_interactive": {
     "language": "csharp"
    }
   },
   "outputs": [],
   "source": [
    "int ? item_1 = null;\n",
    "int ? item_2 = null;\n",
    "int ? item_3 = 500;\n",
    "\n",
    "// Nested ?? operator\n",
    "int ? item_4 = item_1 ?? item_2 ?? item_3;"
   ]
  },
  {
   "cell_type": "markdown",
   "metadata": {},
   "source": [
    "- ?? und ??= können nicht überladen werden"
   ]
  },
  {
   "cell_type": "markdown",
   "metadata": {},
   "source": [
    "Conditional Operator ?:\n",
    "\n",
    "- Kurzschreibweise für If-Else-Verzweigung\n",
    "- Aufbau:\n",
    "    - Bedingung ? Folge : Alternative"
   ]
  },
  {
   "cell_type": "code",
   "execution_count": null,
   "metadata": {
    "dotnet_interactive": {
     "language": "csharp"
    }
   },
   "outputs": [],
   "source": [
    "string errorText;\n",
    "\n",
    "if(name1 == name2)\n",
    "{\n",
    "    errorText = \"Namen stimmen überein.\";\n",
    "}\n",
    "else\n",
    "{\n",
    "    errorText = \"Namen unterscheiden sich\";\n",
    "}\n",
    "\n",
    "Console.WriteLine(errorText);"
   ]
  },
  {
   "cell_type": "markdown",
   "metadata": {},
   "source": [
    "ist das gleiche wie:"
   ]
  },
  {
   "cell_type": "code",
   "execution_count": null,
   "metadata": {
    "dotnet_interactive": {
     "language": "csharp"
    }
   },
   "outputs": [],
   "source": [
    "Console.WriteLine(name1 == name2 ? \"Namen stimmen überein.\" : \"Namen unterscheiden sich\");"
   ]
  }
 ],
 "metadata": {
  "kernelspec": {
   "display_name": ".NET (C#)",
   "language": "C#",
   "name": ".net-csharp"
  },
  "language_info": {
   "file_extension": ".cs",
   "mimetype": "text/x-csharp",
   "name": "C#",
   "pygments_lexer": "csharp",
   "version": "9.0"
  },
  "orig_nbformat": 4
 },
 "nbformat": 4,
 "nbformat_minor": 2
}
